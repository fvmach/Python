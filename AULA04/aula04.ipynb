{
 "cells": [
  {
   "cell_type": "code",
   "execution_count": 7,
   "metadata": {},
   "outputs": [
    {
     "name": "stdout",
     "output_type": "stream",
     "text": [
      "1\n"
     ]
    }
   ],
   "source": [
    "n = int(input('Digite um numero inteiro'))\n",
    "\n",
    "fatorial = 1\n",
    "\n",
    "for predecessor in range(1,n+1):\n",
    "    fatorial *= predecessor\n",
    "    print(f'{fatorial} = {fatorial} * {predecessor}')\n",
    "print(fatorial)"
   ]
  },
  {
   "cell_type": "code",
   "execution_count": 12,
   "metadata": {},
   "outputs": [
    {
     "name": "stdout",
     "output_type": "stream",
     "text": [
      "Mercury is a planet\n",
      "Venus is a planet\n",
      "Earth is a planet\n",
      "Mars is a planet\n",
      "Jupyter is a planet\n",
      "Saturn is a planet\n",
      "Uranus is a planet\n",
      "Neptune is a planet\n",
      "Sorry, Pluto.\n"
     ]
    }
   ],
   "source": [
    "planets = [\"Mercury\", \"Venus\", \"Earth\", \"Mars\", \"Jupyter\", \"Saturn\", \"Uranus\", \"Neptune\", \"Pluto\"]\n",
    "\n",
    "nano_planets = {\"Ceres\", \"Pluto\", \"Makemake\", \"Haumea\"}\n",
    "\n",
    "for planet in planets:\n",
    "    if planet in nano_planets:\n",
    "        print(f\"Sorry, {planet}.\")\n",
    "        break\n",
    "    print(f'{planet} is a planet')"
   ]
  },
  {
   "cell_type": "code",
   "execution_count": 16,
   "metadata": {},
   "outputs": [],
   "source": [
    "def sum_function(a,b):\n",
    "    return a+b"
   ]
  },
  {
   "cell_type": "code",
   "execution_count": 17,
   "metadata": {},
   "outputs": [
    {
     "data": {
      "text/plain": [
       "18"
      ]
     },
     "execution_count": 17,
     "metadata": {},
     "output_type": "execute_result"
    }
   ],
   "source": [
    "sum_function(8,10)"
   ]
  },
  {
   "cell_type": "code",
   "execution_count": 18,
   "metadata": {},
   "outputs": [
    {
     "name": "stdout",
     "output_type": "stream",
     "text": [
      "8\n"
     ]
    }
   ],
   "source": [
    "x = lambda a,b : a+b # anonymous function that accepts any number of parameters but a single expression\n",
    "\n",
    "print(x(5,3))"
   ]
  },
  {
   "cell_type": "code",
   "execution_count": 31,
   "metadata": {},
   "outputs": [
    {
     "name": "stdout",
     "output_type": "stream",
     "text": [
      "['Mercury', 'Venus', 'Earth', 'Mars', 'Jupyter', 'Saturn', 'Uranus', 'Neptune', 'Pluto']\n",
      "[7, 5, 5, 4, 7, 6, 6, 7, 5]\n"
     ]
    }
   ],
   "source": [
    "x = map(len, planets)\n",
    "\n",
    "print(planets)\n",
    "print(list(x))\n"
   ]
  },
  {
   "cell_type": "code",
   "execution_count": 44,
   "metadata": {},
   "outputs": [
    {
     "name": "stdout",
     "output_type": "stream",
     "text": [
      "Você vai para 2074!\n"
     ]
    }
   ],
   "source": [
    "from datetime import date, datetime, timedelta\n",
    "\n",
    "hoje = date.today().strftime('%d/%m/%Y')\n",
    "\n",
    "agora = datetime.now().strftime('%H:%M:%S')\n",
    "\n",
    "seguimos = input(f\"Gostaria de confirmar que são {agora} de {hoje}? (S/N)\")\n",
    "\n",
    "while seguimos != 'S':\n",
    "    seguimos = seguimos = input(f'e agora?')        \n",
    "\n",
    "agora = datetime.now()\n",
    "\n",
    "delorean = 365 * int(input(f\"Quantos anos pro futuro você quer ir?\"))\n",
    "\n",
    "futuro = agora + timedelta(days=delorean)\n",
    "\n",
    "futuro = futuro.strftime('%Y')\n",
    "\n",
    "print(f'Você vai para {futuro}!')"
   ]
  },
  {
   "cell_type": "code",
   "execution_count": null,
   "metadata": {},
   "outputs": [],
   "source": []
  }
 ],
 "metadata": {
  "kernelspec": {
   "display_name": "Python 3",
   "language": "python",
   "name": "python3"
  },
  "language_info": {
   "codemirror_mode": {
    "name": "ipython",
    "version": 3
   },
   "file_extension": ".py",
   "mimetype": "text/x-python",
   "name": "python",
   "nbconvert_exporter": "python",
   "pygments_lexer": "ipython3",
   "version": "3.12.3"
  },
  "orig_nbformat": 4
 },
 "nbformat": 4,
 "nbformat_minor": 2
}
