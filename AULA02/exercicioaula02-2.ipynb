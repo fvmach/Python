{
 "cells": [
  {
   "cell_type": "markdown",
   "metadata": {},
   "source": []
  },
  {
   "cell_type": "code",
   "execution_count": 1,
   "metadata": {},
   "outputs": [
    {
     "ename": "AttributeError",
     "evalue": "'set' object has no attribute 'append'",
     "output_type": "error",
     "traceback": [
      "\u001b[0;31m---------------------------------------------------------------------------\u001b[0m",
      "\u001b[0;31mAttributeError\u001b[0m                            Traceback (most recent call last)",
      "Cell \u001b[0;32mIn[1], line 10\u001b[0m\n\u001b[1;32m      8\u001b[0m     \u001b[39mprint\u001b[39m(\u001b[39mf\u001b[39m\u001b[39m\"\u001b[39m\u001b[39mA fruta \u001b[39m\u001b[39m{\u001b[39;00mnova_fruta\u001b[39m}\u001b[39;00m\u001b[39m já está na lista de frutas. Favor informar outra fruta.\u001b[39m\u001b[39m\"\u001b[39m)\n\u001b[1;32m      9\u001b[0m \u001b[39melse\u001b[39;00m:\n\u001b[0;32m---> 10\u001b[0m     frutas\u001b[39m.\u001b[39;49mappend(nova_fruta)\n\u001b[1;32m     11\u001b[0m     \u001b[39mprint\u001b[39m (\u001b[39mf\u001b[39m\u001b[39m\"\u001b[39m\u001b[39mO item \u001b[39m\u001b[39m{\u001b[39;00mnova_fruta\u001b[39m}\u001b[39;00m\u001b[39m foi adicionado na Lista de Frutas.\u001b[39m\u001b[39m\"\u001b[39m)\n",
      "\u001b[0;31mAttributeError\u001b[0m: 'set' object has no attribute 'append'"
     ]
    }
   ],
   "source": [
    "frutas ={\"Maça\", \"Pera\", \"Banana\", \"Melão\", \"Caqui\"}\n",
    "\n",
    "\n",
    "nova_fruta = input(\"Informe a fruta para adicionar na Lista de Frutas\")\n",
    "\n",
    "for x in frutas:\n",
    "    if nova_fruta in frutas:\n",
    "        print(f\"A fruta {nova_fruta} já está na lista de frutas. Favor informar outra fruta.\")\n",
    "    else:\n",
    "        frutas.append(nova_fruta) # Append only work for Lists\n",
    "        print (f\"O item {nova_fruta} foi adicionado na Lista de Frutas.\")"
   ]
  },
  {
   "cell_type": "code",
   "execution_count": 4,
   "metadata": {},
   "outputs": [
    {
     "data": {
      "text/plain": [
       "['Maça', 'Melão', 'Banana', 'Pera', 'Caqui']"
      ]
     },
     "execution_count": 4,
     "metadata": {},
     "output_type": "execute_result"
    }
   ],
   "source": [
    "frutas = [\"Maça\", \"Pera\", \"Banana\", \"Melão\", \"Caqui\"]\n",
    "\n",
    "nova_fruta = input(\"Informe a fruta para adicionar na Lista de Frutas\")\n",
    "\n",
    "frutas.append(nova_fruta)\n",
    "\n",
    "frutas = list(set(frutas))\n",
    "\n",
    "frutas"
   ]
  }
 ],
 "metadata": {
  "kernelspec": {
   "display_name": "Python 3",
   "language": "python",
   "name": "python3"
  },
  "language_info": {
   "codemirror_mode": {
    "name": "ipython",
    "version": 3
   },
   "file_extension": ".py",
   "mimetype": "text/x-python",
   "name": "python",
   "nbconvert_exporter": "python",
   "pygments_lexer": "ipython3",
   "version": "3.12.3"
  },
  "orig_nbformat": 4
 },
 "nbformat": 4,
 "nbformat_minor": 2
}
