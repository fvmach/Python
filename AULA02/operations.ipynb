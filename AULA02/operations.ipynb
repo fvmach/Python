{
 "cells": [
  {
   "attachments": {},
   "cell_type": "markdown",
   "metadata": {},
   "source": [
    "# Python Operations Cheatsheet"
   ]
  },
  {
   "attachments": {},
   "cell_type": "markdown",
   "metadata": {},
   "source": [
    "## Arithmetic Operators"
   ]
  },
  {
   "cell_type": "code",
   "execution_count": 9,
   "metadata": {},
   "outputs": [
    {
     "name": "stdout",
     "output_type": "stream",
     "text": [
      "5 + 3 = 8\n",
      "5 - 3 = 2\n",
      "5 * 3 = 15\n",
      "5 / 3 = 1.6666666666666667\n",
      "5 // 3 = 1\n",
      "5 % 3 = 2\n",
      "5 ** 3 = 125\n"
     ]
    }
   ],
   "source": [
    "x = 5\n",
    "y = 3\n",
    "\n",
    "sum = x+y\n",
    "print(f\"{x} + {y} = {sum}\")\n",
    "\n",
    "subtraction = x-y\n",
    "print(f\"{x} - {y} = {subtraction}\")\n",
    "\n",
    "multiplication = x*y\n",
    "print(f\"{x} * {y} = {multiplication}\")\n",
    "\n",
    "division = x/y\n",
    "print(f\"{x} / {y} = {division}\")\n",
    "\n",
    "floor_division = x//y #rounds to nearest whole number\n",
    "print(f\"{x} // {y} = {floor_division}\")\n",
    "\n",
    "modulus = x%y\n",
    "print(f\"{x} % {y} = {modulus}\")\n",
    "\n",
    "exponent = x**y\n",
    "print(f\"{x} ** {y} = {exponent}\")\n",
    "\n"
   ]
  },
  {
   "cell_type": "markdown",
   "metadata": {},
   "source": []
  }
 ],
 "metadata": {
  "kernelspec": {
   "display_name": "Python 3",
   "language": "python",
   "name": "python3"
  },
  "language_info": {
   "codemirror_mode": {
    "name": "ipython",
    "version": 3
   },
   "file_extension": ".py",
   "mimetype": "text/x-python",
   "name": "python",
   "nbconvert_exporter": "python",
   "pygments_lexer": "ipython3",
   "version": "3.12.3"
  },
  "orig_nbformat": 4
 },
 "nbformat": 4,
 "nbformat_minor": 2
}
