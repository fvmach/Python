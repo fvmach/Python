{
 "cells": [
  {
   "cell_type": "code",
   "execution_count": 3,
   "metadata": {},
   "outputs": [
    {
     "name": "stdout",
     "output_type": "stream",
     "text": [
      "False\n"
     ]
    }
   ],
   "source": [
    "eh_multiplo = lambda x, y: x%y==0\n",
    "\n",
    "print(eh_multiplo(51,10))"
   ]
  },
  {
   "cell_type": "code",
   "execution_count": 5,
   "metadata": {},
   "outputs": [
    {
     "name": "stdout",
     "output_type": "stream",
     "text": [
      "Boas vindas, Maria\n"
     ]
    }
   ],
   "source": [
    "nome = input('Informe seu nome completo')\n",
    "\n",
    "def primeiro_nome(nome):\n",
    "    separado = nome.split()\n",
    "    return separado[0]\n",
    "\n",
    "print (f'Boas vindas, {primeiro_nome(nome)}')\n",
    "\n"
   ]
  },
  {
   "cell_type": "code",
   "execution_count": 14,
   "metadata": {},
   "outputs": [
    {
     "name": "stdout",
     "output_type": "stream",
     "text": [
      "1986-10-25 00:00:00\n",
      "25/10/1986 é Saturday\n"
     ]
    }
   ],
   "source": [
    "from datetime import date, datetime, timedelta\n",
    "user_date = input('Informe uma data no formato dd/mm/aaaa')\n",
    "\n",
    "def get_weekday (user_date):\n",
    "    normalized_date = datetime.strptime(user_date,'%d/%m/%Y')\n",
    "    print(normalized_date)\n",
    "\n",
    "    weekday = normalized_date.strftime('%A')\n",
    "    return weekday\n",
    "\n",
    "day_of_week = get_weekday(user_date)\n",
    "print(f'{user_date} é {day_of_week}')"
   ]
  },
  {
   "cell_type": "code",
   "execution_count": 30,
   "metadata": {},
   "outputs": [],
   "source": [
    "class Cachorro:\n",
    "    def __init__(self, name, age, breed, bark_type):\n",
    "        self.name = name\n",
    "        self.age = age\n",
    "        self.breed = breed\n",
    "        self.bark_type = bark_type\n",
    "\n",
    "    def bark(self):        \n",
    "        barking_sound = 'woof woof'\n",
    "        return barking_sound"
   ]
  },
  {
   "cell_type": "code",
   "execution_count": 25,
   "metadata": {},
   "outputs": [],
   "source": [
    "Scoobie_Doo = Cachorro('Scoobie Doo', 6, 'German Dog')"
   ]
  },
  {
   "cell_type": "code",
   "execution_count": 26,
   "metadata": {},
   "outputs": [
    {
     "data": {
      "text/plain": [
       "'German Dog'"
      ]
     },
     "execution_count": 26,
     "metadata": {},
     "output_type": "execute_result"
    }
   ],
   "source": [
    "Scoobie_Doo.breed"
   ]
  },
  {
   "cell_type": "code",
   "execution_count": 40,
   "metadata": {},
   "outputs": [
    {
     "name": "stdout",
     "output_type": "stream",
     "text": [
      "woof woof\n"
     ]
    },
    {
     "data": {
      "text/plain": [
       "'woof woof'"
      ]
     },
     "execution_count": 40,
     "metadata": {},
     "output_type": "execute_result"
    }
   ],
   "source": [
    "Eddie = Cachorro('Edmundo', 14, 'Border Collie')\n",
    "\n",
    "Eddie.bark()"
   ]
  },
  {
   "cell_type": "code",
   "execution_count": 38,
   "metadata": {},
   "outputs": [],
   "source": [
    "class Rectangle:\n",
    "    def __init__(self, base, height):\n",
    "        self.base = base\n",
    "        self.height = height\n",
    "\n",
    "    def area(self):\n",
    "        return int(self.base) * int(self.height)\n",
    "    \n",
    "    def permiter(self):\n",
    "        return (int(self.base) +int(self.height))*2\n"
   ]
  },
  {
   "cell_type": "code",
   "execution_count": 39,
   "metadata": {},
   "outputs": [
    {
     "name": "stdout",
     "output_type": "stream",
     "text": [
      "A área é 100 e o perímetro é 40\n"
     ]
    }
   ],
   "source": [
    "quadrado = Rectangle(10,10)\n",
    "\n",
    "print(f'A área é {quadrado.area()} e o perímetro é {quadrado.permiter()}')"
   ]
  },
  {
   "cell_type": "code",
   "execution_count": 46,
   "metadata": {},
   "outputs": [],
   "source": [
    "#Crie uma classe Conta que tenha os atributos saldo e titular e os métodos depositar() e sacar(). Em seguida, instancie essa classe com um saldo inicial e realize algumas operações de depósito e saque para verificar se o saldo está sendo atualizado corretamente.\n",
    "\n",
    "class Account:\n",
    "    def __init__(self, balance, holder):\n",
    "        self.balance = balance\n",
    "        self.holder = holder\n",
    "\n",
    "    def deposit(self, deposit_value):\n",
    "        self.balance += deposit_value\n",
    "        print(f'Seu novo saldo é {self.balance}')\n",
    "        return self.balance\n",
    "    \n",
    "    def draw(self, draw_value):\n",
    "        if self.balance >= draw_value:\n",
    "            self.balance -= draw_value\n",
    "            print(f'Seu novo saldo é {self.balance}.')\n",
    "        else:\n",
    "            print('Saldo insuficiente')\n",
    "        return self.balance"
   ]
  },
  {
   "cell_type": "code",
   "execution_count": 48,
   "metadata": {},
   "outputs": [
    {
     "name": "stdout",
     "output_type": "stream",
     "text": [
      "Seu novo saldo é 100\n",
      "Seu novo saldo é 50.\n"
     ]
    },
    {
     "data": {
      "text/plain": [
       "50"
      ]
     },
     "execution_count": 48,
     "metadata": {},
     "output_type": "execute_result"
    }
   ],
   "source": [
    "conta00001 = Account(0, 'Mariana Mendes')\n",
    "\n",
    "conta00001.deposit(100)\n",
    "\n",
    "conta00001.draw(50)\n"
   ]
  }
 ],
 "metadata": {
  "kernelspec": {
   "display_name": "Python 3",
   "language": "python",
   "name": "python3"
  },
  "language_info": {
   "codemirror_mode": {
    "name": "ipython",
    "version": 3
   },
   "file_extension": ".py",
   "mimetype": "text/x-python",
   "name": "python",
   "nbconvert_exporter": "python",
   "pygments_lexer": "ipython3",
   "version": "3.12.3"
  },
  "orig_nbformat": 4
 },
 "nbformat": 4,
 "nbformat_minor": 2
}
