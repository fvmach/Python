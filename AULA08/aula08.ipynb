{
 "cells": [
  {
   "cell_type": "code",
   "execution_count": 1,
   "metadata": {},
   "outputs": [],
   "source": [
    "import numpy as np"
   ]
  },
  {
   "cell_type": "code",
   "execution_count": 2,
   "metadata": {},
   "outputs": [],
   "source": [
    "import pandas as pd"
   ]
  },
  {
   "cell_type": "markdown",
   "metadata": {},
   "source": [
    "Crie um DataFrame com as seguintes informações: Coluna \"fruta\": \"Banana\", \"Maça\", \"Pera\" Coluna \"preco\": 7.90, 10.20, 11.80 Coluna \"quantidade\": 12, 3, 4"
   ]
  },
  {
   "cell_type": "code",
   "execution_count": 4,
   "metadata": {},
   "outputs": [
    {
     "name": "stdout",
     "output_type": "stream",
     "text": [
      "   Frutas  Preços  Quantidade\n",
      "0  Banana     7.9          12\n",
      "1    Maçã    10.2           3\n",
      "2    Pera    11.8           4\n"
     ]
    }
   ],
   "source": [
    "carros = {'Frutas':['Banana', 'Maçã', 'Pera'], \n",
    "          'Preços':[7.90, 10.20, 11.80],\n",
    "          'Quantidade':[12, 3, 4]}\n",
    "\n",
    "df = pd.DataFrame(carros)\n",
    "\n",
    "print(df)"
   ]
  },
  {
   "cell_type": "code",
   "execution_count": 13,
   "metadata": {},
   "outputs": [
    {
     "name": "stdout",
     "output_type": "stream",
     "text": [
      "          Data Dia da semana                                                         Tipo  Quantidade solicitada Unidade de tempo  Comentário    Status                                   Visualizar mais\n",
      "0    5/21/2024       Tuesday      Brazil Vacation (for requests that are 14 days or more)                    1.0           Dia(s)         NaN  Aprovado  Solicitação de ausência: Fernando Vieira Machado\n",
      "1    5/20/2024        Monday      Brazil Vacation (for requests that are 14 days or more)                    1.0           Dia(s)         NaN  Aprovado  Solicitação de ausência: Fernando Vieira Machado\n",
      "2    5/19/2024        Sunday      Brazil Vacation (for requests that are 14 days or more)                    1.0           Dia(s)         NaN  Aprovado  Solicitação de ausência: Fernando Vieira Machado\n",
      "3    5/18/2024      Saturday      Brazil Vacation (for requests that are 14 days or more)                    1.0           Dia(s)         NaN  Aprovado  Solicitação de ausência: Fernando Vieira Machado\n",
      "4    5/17/2024        Friday      Brazil Vacation (for requests that are 14 days or more)                    1.0           Dia(s)         NaN  Aprovado  Solicitação de ausência: Fernando Vieira Machado\n",
      "5    5/16/2024      Thursday      Brazil Vacation (for requests that are 14 days or more)                    1.0           Dia(s)         NaN  Aprovado  Solicitação de ausência: Fernando Vieira Machado\n",
      "6    5/15/2024     Wednesday      Brazil Vacation (for requests that are 14 days or more)                    1.0           Dia(s)         NaN  Aprovado  Solicitação de ausência: Fernando Vieira Machado\n",
      "7    5/14/2024       Tuesday      Brazil Vacation (for requests that are 14 days or more)                    1.0           Dia(s)         NaN  Aprovado  Solicitação de ausência: Fernando Vieira Machado\n",
      "8    5/13/2024        Monday      Brazil Vacation (for requests that are 14 days or more)                    1.0           Dia(s)         NaN  Aprovado  Solicitação de ausência: Fernando Vieira Machado\n",
      "9    5/12/2024        Sunday      Brazil Vacation (for requests that are 14 days or more)                    1.0           Dia(s)         NaN  Aprovado  Solicitação de ausência: Fernando Vieira Machado\n",
      "10   5/11/2024      Saturday      Brazil Vacation (for requests that are 14 days or more)                    1.0           Dia(s)         NaN  Aprovado  Solicitação de ausência: Fernando Vieira Machado\n",
      "11   5/10/2024        Friday      Brazil Vacation (for requests that are 14 days or more)                    1.0           Dia(s)         NaN  Aprovado  Solicitação de ausência: Fernando Vieira Machado\n",
      "12    5/9/2024      Thursday      Brazil Vacation (for requests that are 14 days or more)                    1.0           Dia(s)         NaN  Aprovado  Solicitação de ausência: Fernando Vieira Machado\n",
      "13    5/8/2024     Wednesday      Brazil Vacation (for requests that are 14 days or more)                    1.0           Dia(s)         NaN  Aprovado  Solicitação de ausência: Fernando Vieira Machado\n",
      "14    5/7/2024       Tuesday      Brazil Vacation (for requests that are 14 days or more)                    1.0           Dia(s)         NaN  Aprovado  Solicitação de ausência: Fernando Vieira Machado\n",
      "15    5/6/2024        Monday      Brazil Vacation (for requests that are 14 days or more)                    1.0           Dia(s)         NaN  Aprovado  Solicitação de ausência: Fernando Vieira Machado\n",
      "16         NaN           NaN                                                          NaN                    NaN              NaN         NaN       NaN                                               NaN\n",
      "17    2/9/2024        Friday  Brazil Vacation (for requests that are between 5 - 13 days)                    1.0           Dia(s)         NaN  Aprovado  Solicitação de ausência: Fernando Vieira Machado\n",
      "18    2/8/2024      Thursday  Brazil Vacation (for requests that are between 5 - 13 days)                    1.0           Dia(s)         NaN  Aprovado  Solicitação de ausência: Fernando Vieira Machado\n",
      "19    2/7/2024     Wednesday  Brazil Vacation (for requests that are between 5 - 13 days)                    1.0           Dia(s)         NaN  Aprovado  Solicitação de ausência: Fernando Vieira Machado\n",
      "20    2/6/2024       Tuesday  Brazil Vacation (for requests that are between 5 - 13 days)                    1.0           Dia(s)         NaN  Aprovado  Solicitação de ausência: Fernando Vieira Machado\n",
      "21    2/5/2024        Monday  Brazil Vacation (for requests that are between 5 - 13 days)                    1.0           Dia(s)         NaN  Aprovado  Solicitação de ausência: Fernando Vieira Machado\n",
      "22         NaN           NaN                                                          NaN                    NaN              NaN         NaN       NaN                                               NaN\n",
      "23  11/14/2023       Tuesday  Brazil Vacation (for requests that are between 5 - 13 days)                    1.0           Dia(s)         NaN  Aprovado  Solicitação de ausência: Fernando Vieira Machado\n",
      "24  11/13/2023        Monday  Brazil Vacation (for requests that are between 5 - 13 days)                    1.0           Dia(s)         NaN  Aprovado  Solicitação de ausência: Fernando Vieira Machado\n",
      "25  11/12/2023        Sunday  Brazil Vacation (for requests that are between 5 - 13 days)                    1.0           Dia(s)         NaN  Aprovado  Solicitação de ausência: Fernando Vieira Machado\n",
      "26  11/11/2023      Saturday  Brazil Vacation (for requests that are between 5 - 13 days)                    1.0           Dia(s)         NaN  Aprovado  Solicitação de ausência: Fernando Vieira Machado\n",
      "27  11/10/2023        Friday  Brazil Vacation (for requests that are between 5 - 13 days)                    1.0           Dia(s)         NaN  Aprovado  Solicitação de ausência: Fernando Vieira Machado\n",
      "28   11/9/2023      Thursday  Brazil Vacation (for requests that are between 5 - 13 days)                    1.0           Dia(s)         NaN  Aprovado  Solicitação de ausência: Fernando Vieira Machado\n",
      "29   11/8/2023     Wednesday  Brazil Vacation (for requests that are between 5 - 13 days)                    1.0           Dia(s)         NaN  Aprovado  Solicitação de ausência: Fernando Vieira Machado\n",
      "30   11/7/2023       Tuesday  Brazil Vacation (for requests that are between 5 - 13 days)                    1.0           Dia(s)         NaN  Aprovado  Solicitação de ausência: Fernando Vieira Machado\n",
      "31   11/6/2023        Monday  Brazil Vacation (for requests that are between 5 - 13 days)                    1.0           Dia(s)         NaN  Aprovado  Solicitação de ausência: Fernando Vieira Machado\n",
      "32         NaN           NaN                                                          NaN                    NaN              NaN         NaN       NaN                                               NaN\n",
      "33   4/28/2023        Friday  Brazil Vacation (for requests that are between 5 - 13 days)                    1.0           Dia(s)         NaN  Aprovado  Solicitação de ausência: Fernando Vieira Machado\n",
      "34   4/27/2023      Thursday  Brazil Vacation (for requests that are between 5 - 13 days)                    1.0           Dia(s)         NaN  Aprovado  Solicitação de ausência: Fernando Vieira Machado\n",
      "35   4/26/2023     Wednesday  Brazil Vacation (for requests that are between 5 - 13 days)                    1.0           Dia(s)         NaN  Aprovado  Solicitação de ausência: Fernando Vieira Machado\n",
      "36   4/25/2023       Tuesday  Brazil Vacation (for requests that are between 5 - 13 days)                    1.0           Dia(s)         NaN  Aprovado  Solicitação de ausência: Fernando Vieira Machado\n",
      "37   4/24/2023        Monday  Brazil Vacation (for requests that are between 5 - 13 days)                    1.0           Dia(s)         NaN  Aprovado  Solicitação de ausência: Fernando Vieira Machado\n",
      "38         NaN           NaN                                                          NaN                    NaN              NaN         NaN       NaN                                               NaN\n",
      "39    4/6/2023      Thursday  Brazil Vacation (for requests that are between 5 - 13 days)                    1.0           Dia(s)         NaN  Aprovado  Solicitação de ausência: Fernando Vieira Machado\n",
      "40    4/5/2023     Wednesday  Brazil Vacation (for requests that are between 5 - 13 days)                    1.0           Dia(s)         NaN  Aprovado  Solicitação de ausência: Fernando Vieira Machado\n",
      "41    4/4/2023       Tuesday  Brazil Vacation (for requests that are between 5 - 13 days)                    1.0           Dia(s)         NaN  Aprovado  Solicitação de ausência: Fernando Vieira Machado\n",
      "42    4/3/2023        Monday  Brazil Vacation (for requests that are between 5 - 13 days)                    1.0           Dia(s)         NaN  Aprovado  Solicitação de ausência: Fernando Vieira Machado\n",
      "43    4/2/2023        Sunday  Brazil Vacation (for requests that are between 5 - 13 days)                    1.0           Dia(s)         NaN  Aprovado  Solicitação de ausência: Fernando Vieira Machado\n",
      "44    4/1/2023      Saturday  Brazil Vacation (for requests that are between 5 - 13 days)                    1.0           Dia(s)         NaN  Aprovado  Solicitação de ausência: Fernando Vieira Machado\n",
      "45   3/31/2023        Friday  Brazil Vacation (for requests that are between 5 - 13 days)                    1.0           Dia(s)         NaN  Aprovado  Solicitação de ausência: Fernando Vieira Machado\n",
      "46   3/30/2023      Thursday  Brazil Vacation (for requests that are between 5 - 13 days)                    1.0           Dia(s)         NaN  Aprovado  Solicitação de ausência: Fernando Vieira Machado\n",
      "47   3/29/2023     Wednesday  Brazil Vacation (for requests that are between 5 - 13 days)                    1.0           Dia(s)         NaN  Aprovado  Solicitação de ausência: Fernando Vieira Machado\n",
      "48   3/28/2023       Tuesday  Brazil Vacation (for requests that are between 5 - 13 days)                    1.0           Dia(s)         NaN  Aprovado  Solicitação de ausência: Fernando Vieira Machado\n",
      "49   3/27/2023        Monday  Brazil Vacation (for requests that are between 5 - 13 days)                    1.0           Dia(s)         NaN  Aprovado  Solicitação de ausência: Fernando Vieira Machado\n",
      "50         NaN           NaN                                                          NaN                    NaN              NaN         NaN       NaN                                               NaN\n",
      "51    7/3/2022           NaN                                                          NaN                    NaN              NaN         NaN       NaN                                               NaN\n",
      "52    7/2/2022           NaN                                                          NaN                    NaN              NaN         NaN       NaN                                               NaN\n",
      "53    7/1/2022           NaN                                                          NaN                    NaN              NaN         NaN       NaN                                               NaN\n",
      "54   6/30/2022           NaN                                                          NaN                    NaN              NaN         NaN       NaN                                               NaN\n",
      "55   6/29/2022           NaN                                                          NaN                    NaN              NaN         NaN       NaN                                               NaN\n",
      "56   6/28/2022           NaN                                                          NaN                    NaN              NaN         NaN       NaN                                               NaN\n",
      "57   6/27/2022           NaN                                                          NaN                    NaN              NaN         NaN       NaN                                               NaN\n",
      "58   6/26/2022           NaN                                                          NaN                    NaN              NaN         NaN       NaN                                               NaN\n",
      "59   6/25/2022           NaN                                                          NaN                    NaN              NaN         NaN       NaN                                               NaN\n",
      "60   6/24/2022           NaN                                                          NaN                    NaN              NaN         NaN       NaN                                               NaN\n",
      "61   6/23/2022           NaN                                                          NaN                    NaN              NaN         NaN       NaN                                               NaN\n",
      "62   6/22/2022           NaN                                                          NaN                    NaN              NaN         NaN       NaN                                               NaN\n",
      "63   6/21/2022           NaN                                                          NaN                    NaN              NaN         NaN       NaN                                               NaN\n",
      "64   6/20/2022           NaN                                                          NaN                    NaN              NaN         NaN       NaN                                               NaN\n"
     ]
    }
   ],
   "source": [
    "df = pd.read_csv('data_set_test.csv')\n",
    "\n",
    "print(df.to_string())"
   ]
  },
  {
   "cell_type": "code",
   "execution_count": null,
   "metadata": {},
   "outputs": [],
   "source": []
  }
 ],
 "metadata": {
  "kernelspec": {
   "display_name": "Python 3",
   "language": "python",
   "name": "python3"
  },
  "language_info": {
   "codemirror_mode": {
    "name": "ipython",
    "version": 3
   },
   "file_extension": ".py",
   "mimetype": "text/x-python",
   "name": "python",
   "nbconvert_exporter": "python",
   "pygments_lexer": "ipython3",
   "version": "3.10.12"
  },
  "orig_nbformat": 4
 },
 "nbformat": 4,
 "nbformat_minor": 2
}
