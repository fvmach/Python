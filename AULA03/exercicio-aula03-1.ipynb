{
 "cells": [
  {
   "cell_type": "code",
   "execution_count": 9,
   "metadata": {},
   "outputs": [
    {
     "name": "stdout",
     "output_type": "stream",
     "text": [
      "T*st*nd* * *mpl*m*nt*çã*\n"
     ]
    }
   ],
   "source": [
    "frase = input(\"Digite uma frase.\")\n",
    "\n",
    "vogais = [\"a\", \"e\", \"i\", \"o\", \"u\"]\n",
    "\n",
    "for x in frase:\n",
    "    if x in vogais: \n",
    "        frase = frase.replace(x,\"*\") # str.replace does not change in-place\n",
    "\n",
    "print(frase)"
   ]
  },
  {
   "cell_type": "code",
   "execution_count": 8,
   "metadata": {},
   "outputs": [
    {
     "data": {
      "text/plain": [
       "'T*st*nd* * *mpl*m*nt*çã*'"
      ]
     },
     "execution_count": 8,
     "metadata": {},
     "output_type": "execute_result"
    }
   ],
   "source": [
    "frase = input(\"Digite uma frase\")\n",
    "\n",
    "substituicao = frase.replace('a','*').replace('e','*').replace('i','*').replace('o','*').replace('u','*')\n",
    "\n",
    "substituicao"
   ]
  },
  {
   "cell_type": "code",
   "execution_count": 16,
   "metadata": {},
   "outputs": [
    {
     "name": "stdout",
     "output_type": "stream",
     "text": [
      ",,,,,testANDO o    ,,,,,Método strip    no Python\n",
      "testANDO o    ,,,,,Método strip    no Python\n",
      "TESTANDO O    ,,,,,MÉTODO STRIP    NO PYTHON\n",
      "testando o    ,,,,,método strip    no python\n"
     ]
    }
   ],
   "source": [
    "frase_teste_02 = \"   ,,,,,testANDO o    ,,,,,Método strip    no Python\"\n",
    "\n",
    "frase_teste_02 = frase_teste_02.strip()\n",
    "print(frase_teste_02)\n",
    "\n",
    "frase_teste_02 = frase_teste_02.strip(',')\n",
    "print(frase_teste_02)\n",
    "\n",
    "frase_teste_02 = frase_teste_02.upper()\n",
    "print(frase_teste_02)\n",
    "\n",
    "frase_teste_02 = frase_teste_02.lower()\n",
    "print(frase_teste_02)"
   ]
  },
  {
   "cell_type": "code",
   "execution_count": 19,
   "metadata": {},
   "outputs": [
    {
     "name": "stdout",
     "output_type": "stream",
     "text": [
      "Você pode ir à montanha russa.\n"
     ]
    }
   ],
   "source": [
    "idade = int(input(\"Qual a sua idade?\"))\n",
    "altura = float(input(\"Qual a sua altura?\"))\n",
    "dia = input(\"Que dia é hoje?\")\n",
    "\n",
    "if(idade > 12) and (altura >= 1.5) and (dia == 'sabado' or dia == 'domingo'):\n",
    "    print (\"Você pode ir à montanha russa.\")\n",
    "else:\n",
    "    print(f\"Você não pode ir à montanha russa.\")\n"
   ]
  },
  {
   "cell_type": "code",
   "execution_count": 24,
   "metadata": {},
   "outputs": [
    {
     "name": "stdout",
     "output_type": "stream",
     "text": [
      "133253564678 é par\n"
     ]
    }
   ],
   "source": [
    "numero = int(input(\"Digite um número.\"))\n",
    "\n",
    "if (numero%2 == 0):\n",
    "    print(f\"{numero} é par\")\n",
    "else:\n",
    "    print(f\"{numero} é ímpar\")"
   ]
  },
  {
   "cell_type": "code",
   "execution_count": 25,
   "metadata": {},
   "outputs": [
    {
     "name": "stdout",
     "output_type": "stream",
     "text": [
      "3\n",
      "5\n",
      "7\n",
      "9\n",
      "11\n",
      "13\n"
     ]
    }
   ],
   "source": [
    "soma =1\n",
    "\n",
    "while soma < 12:\n",
    "    soma = soma +2\n",
    "    print(soma)"
   ]
  },
  {
   "cell_type": "code",
   "execution_count": 35,
   "metadata": {},
   "outputs": [
    {
     "name": "stdout",
     "output_type": "stream",
     "text": [
      "Acesso autorizado.\n"
     ]
    }
   ],
   "source": [
    "senha_correta = '1234'\n",
    "\n",
    "senha = '****'\n",
    "tentativa = 3\n",
    "\n",
    "while senha != senha_correta and tentativa > 0:\n",
    "    senha = input(\"Digite sua senha.\")\n",
    "    if senha != senha_correta:\n",
    "        print(\"Senha incorreta.\")\n",
    "        tentativa -= 1\n",
    "    if tentativa == 0:\n",
    "        print(\"Acesso bloqueado. Procure um administrador.\")\n",
    "    else:\n",
    "        print(\"Acesso autorizado.\")\n"
   ]
  }
 ],
 "metadata": {
  "kernelspec": {
   "display_name": "Python 3",
   "language": "python",
   "name": "python3"
  },
  "language_info": {
   "codemirror_mode": {
    "name": "ipython",
    "version": 3
   },
   "file_extension": ".py",
   "mimetype": "text/x-python",
   "name": "python",
   "nbconvert_exporter": "python",
   "pygments_lexer": "ipython3",
   "version": "3.12.3"
  },
  "orig_nbformat": 4
 },
 "nbformat": 4,
 "nbformat_minor": 2
}
