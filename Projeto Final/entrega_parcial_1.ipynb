{
 "cells": [
  {
   "cell_type": "markdown",
   "metadata": {},
   "source": [
    "# Projeto Final"
   ]
  },
  {
   "cell_type": "markdown",
   "metadata": {},
   "source": [
    "## Primeira entrega parcial\n",
    "\n",
    "### Objetivo\n",
    "Para essa entrega focaremos somente nas etapas de: \n",
    "\n",
    "- Escolher uma API da lista disponível; \n",
    "- Fazer a extração de pelo menos 3 tabelas;\n",
    "- Criar um alerta de erro usando a função alerta() do desafio da aula Fundamentos de programação III~.\n",
    "\n",
    "*ATENÇÃO:* _escolher apenas uma das APIs disponíveis._\n",
    "\n",
    "### Formato\n",
    "O entregável é um link do GitHub para um arquivo .py ou .ipynb com a resolução proposta.\n",
    "\n",
    "Utilize o mesmo repositório criado na aula de GIT.   \n",
    "\n",
    "### Observações\n",
    "\n",
    "Não é necessário fazer tratamentos das tabelas, salvar no banco de dados ou documentação nesta etapa do projeto."
   ]
  },
  {
   "cell_type": "markdown",
   "metadata": {},
   "source": [
    "### Escolher uma API\n",
    "\n",
    "APIs disponíveis:\n",
    "\n",
    "- Brasil API - [Link](https://brasilapi.com.br/docs) (exemplo de url: https://brasilapi.com.br/api/banks/v1)\n",
    "\n",
    "- Rest Coutries - [Link](https://restcountries.com/)  (exemplo de url: https://restcountries.com/v3.1/all)\n",
    "\n",
    "- PokéAPI - [Link](https://pokeapi.co/) (exemplo de url: https://pokeapi.co/api/v2/pokemon)"
   ]
  },
  {
   "cell_type": "markdown",
   "metadata": {},
   "source": [
    "# Código da Entrega"
   ]
  },
  {
   "cell_type": "code",
   "execution_count": 160,
   "metadata": {},
   "outputs": [],
   "source": [
    "import requests\n",
    "import pandas as pd\n",
    "import sqlite3\n",
    "import json\n",
    "import urllib.parse\n",
    "from plyer import notification"
   ]
  },
  {
   "cell_type": "code",
   "execution_count": 161,
   "metadata": {},
   "outputs": [],
   "source": [
    "def salva_bd(df,nome_tabela,conn):     \n",
    "    df.to_sql(nome_tabela,conn,if_exists='replace',index=False)\n",
    "\n",
    "    return True\n",
    "\n",
    "def carrega_bd(nome_tabela,conn):\n",
    "    query = f'SELECT * FROM {nome_tabela}'\n",
    "    df = pd.read_sql(query,conn)\n",
    "\n",
    "    return df"
   ]
  },
  {
   "cell_type": "code",
   "execution_count": 162,
   "metadata": {},
   "outputs": [
    {
     "data": {
      "text/plain": [
       "<Response [200]>"
      ]
     },
     "execution_count": 162,
     "metadata": {},
     "output_type": "execute_result"
    }
   ],
   "source": [
    "holidays_raw_data = requests.get(f\"https://brasilapi.com.br/api/feriados/v1/2024\")\n",
    "\n",
    "holidays_raw_data.content\n",
    "holidays_raw_data"
   ]
  },
  {
   "cell_type": "code",
   "execution_count": 163,
   "metadata": {},
   "outputs": [
    {
     "data": {
      "text/plain": [
       "int"
      ]
     },
     "execution_count": 163,
     "metadata": {},
     "output_type": "execute_result"
    }
   ],
   "source": [
    "estados_raw_data = requests.get(f\"https://brasilapi.com.br/api/ibge/uf/v1\")\n",
    "\n",
    "estados_raw_data.content\n",
    "type(estados_raw_data.status_code)"
   ]
  },
  {
   "cell_type": "code",
   "execution_count": 164,
   "metadata": {},
   "outputs": [
    {
     "data": {
      "text/plain": [
       "b'[{\"nome\":\"S\\xc3\\xa3o Paulo\",\"id\":244,\"estado\":\"SP\"},{\"nome\":\"S\\xc3\\xa3o Paulo das Miss\\xc3\\xb5es\",\"id\":5019,\"estado\":\"RS\"},{\"nome\":\"S\\xc3\\xa3o Paulo de Oliven\\xc3\\xa7a\",\"id\":5020,\"estado\":\"AM\"},{\"nome\":\"S\\xc3\\xa3o Paulo do Potengi\",\"id\":5021,\"estado\":\"RN\"}]'"
      ]
     },
     "execution_count": 164,
     "metadata": {},
     "output_type": "execute_result"
    }
   ],
   "source": [
    "cidade_raw_data = requests.get(\"https://brasilapi.com.br/api/cptec/v1/cidade/S%C3%A3o%20Paulo\")\n",
    "\n",
    "cidade_raw_data.content"
   ]
  },
  {
   "cell_type": "code",
   "execution_count": 165,
   "metadata": {},
   "outputs": [],
   "source": [
    "def valida_opcao_menu_inicial(opcao_menu_inicial):\n",
    "        match opcao_menu_inicial:\n",
    "            case '1':\n",
    "                return listar_feriados()\n",
    "            case '2':\n",
    "                return listar_estados()\n",
    "            case '3':\n",
    "                return buscar_previsao()\n",
    "            case _:\n",
    "                print(\"Opção inválida.\")\n",
    "                return\n",
    "\n",
    "\n",
    "def listar_feriados():\n",
    "    ano = input(\"Favor informar o ano desejado\")\n",
    "    holidays_raw_data = requests.get(f\"https://brasilapi.com.br/api/feriados/v1/{ano}\")\n",
    "\n",
    "    if holidays_raw_data.status_code != 200:\n",
    "        return alerta(3, \"https://brasilapi.com.br/api/feriados/v1/{ano}\", \"Extração\")\n",
    "    else:\n",
    "        df_holidays = beautify_data(holidays_raw_data.content)\n",
    "\n",
    "        #salva_bd(df_holidays,'feriados_nacionais',conn_holidays)\n",
    "        display(df_holidays)\n",
    "        \n",
    "        return df_holidays\n",
    "\n",
    "\n",
    "def listar_estados():\n",
    "    estados_raw_data = requests.get(\"https://brasilapi.com.br/api/ibge/uf/v1\")\n",
    "\n",
    "    if estados_raw_data.status_code != 200:\n",
    "        return alerta(3, \"https://brasilapi.com.br/api/ibge/uf/v1\", \"Extração\")\n",
    "    \n",
    "    else:\n",
    "        df_estados = beautify_data(estados_raw_data.content)\n",
    "\n",
    "        display(df_estados)\n",
    "        \n",
    "        #salva_bd(df_estados,'estados',conn_estados)\n",
    "        \n",
    "        return df_estados\n",
    "\n",
    "\n",
    "def buscar_previsao():\n",
    "    cidade = input(\"Informe a cidade para qual deseja saber a previsão do tempo.\")\n",
    "    urlencoded_cidade = urllib.parse.quote(cidade)\n",
    "    \n",
    "    days = input(\"Para quantos dias gostaria de ter a previsão?\")\n",
    "\n",
    "    cidade_previsao_raw_data = requests.get(f\"https://brasilapi.com.br/api/cptec/v1/cidade/{urlencoded_cidade}\")\n",
    "\n",
    "    if cidade_previsao_raw_data.status_code != 200:\n",
    "        return alerta(3, \"https://brasilapi.com.br/api/cptec/v1/cidade/{urlencoded_cidade}\", \"Extração\")\n",
    "    \n",
    "    else:\n",
    "        df_cidade_previsao = beautify_data(cidade_previsao_raw_data.content)\n",
    "        #salva_bd(df_cidades,'previsao_por_cidade',conn_previsao)\n",
    "        display(df_cidade_previsao)\n",
    "        display(df_cidade_previsao.iloc[0]['id'])\n",
    "        \n",
    "        cityCode = int(df_cidade_previsao.iloc[0]['id'])\n",
    "    \n",
    "        previsao_raw_data = requests.get(f\"https://brasilapi.com.br/api/cptec/v1/clima/previsao/{cityCode}/{days}\")\n",
    "        display(previsao_raw_data\n",
    "                )\n",
    "        df_previsao = beautify_data(previsao_raw_data.content)\n",
    "        display(df_previsao)    \n",
    "            \n",
    "        return previsao_raw_data\n",
    "\n",
    "\n",
    "def beautify_data(raw_data):\n",
    "    decoded_data = raw_data.decode('utf-8')\n",
    "    working_data = json.loads(decoded_data)\n",
    "    dataframe = pd.DataFrame(working_data)\n",
    "    return dataframe\n",
    "\n",
    "\n",
    "def alerta(nivel, base, etapa):\n",
    "    alerta_nivel = \"\"\n",
    "    match nivel:\n",
    "        case 1:\n",
    "            alerta_nivel = \"Baixo\"\n",
    "        case 2:\n",
    "            alerta_nivel = \"Médio\"\n",
    "        case 3:\n",
    "            alerta_nivel = \"Alto\"\n",
    "            \n",
    "    notification.notify(\n",
    "        title=f\"ERRO: Alerta {alerta_nivel} \", \n",
    "        message=f\"Falha no carregamento da base {base} na etapa {etapa}\", \n",
    "        app_name=\"\", \n",
    "        timeout=10\n",
    ")\n"
   ]
  },
  {
   "cell_type": "code",
   "execution_count": 166,
   "metadata": {},
   "outputs": [
    {
     "name": "stdout",
     "output_type": "stream",
     "text": [
      "Boas-vindas ao SIPD - Sistema integrado de planejamento divertido\n"
     ]
    },
    {
     "data": {
      "text/html": [
       "<div>\n",
       "<style scoped>\n",
       "    .dataframe tbody tr th:only-of-type {\n",
       "        vertical-align: middle;\n",
       "    }\n",
       "\n",
       "    .dataframe tbody tr th {\n",
       "        vertical-align: top;\n",
       "    }\n",
       "\n",
       "    .dataframe thead th {\n",
       "        text-align: right;\n",
       "    }\n",
       "</style>\n",
       "<table border=\"1\" class=\"dataframe\">\n",
       "  <thead>\n",
       "    <tr style=\"text-align: right;\">\n",
       "      <th></th>\n",
       "      <th>nome</th>\n",
       "      <th>id</th>\n",
       "      <th>estado</th>\n",
       "    </tr>\n",
       "  </thead>\n",
       "  <tbody>\n",
       "    <tr>\n",
       "      <th>0</th>\n",
       "      <td>São Paulo</td>\n",
       "      <td>244</td>\n",
       "      <td>SP</td>\n",
       "    </tr>\n",
       "    <tr>\n",
       "      <th>1</th>\n",
       "      <td>São Paulo das Missões</td>\n",
       "      <td>5019</td>\n",
       "      <td>RS</td>\n",
       "    </tr>\n",
       "    <tr>\n",
       "      <th>2</th>\n",
       "      <td>São Paulo de Olivença</td>\n",
       "      <td>5020</td>\n",
       "      <td>AM</td>\n",
       "    </tr>\n",
       "    <tr>\n",
       "      <th>3</th>\n",
       "      <td>São Paulo do Potengi</td>\n",
       "      <td>5021</td>\n",
       "      <td>RN</td>\n",
       "    </tr>\n",
       "  </tbody>\n",
       "</table>\n",
       "</div>"
      ],
      "text/plain": [
       "                    nome    id estado\n",
       "0              São Paulo   244     SP\n",
       "1  São Paulo das Missões  5019     RS\n",
       "2  São Paulo de Olivença  5020     AM\n",
       "3   São Paulo do Potengi  5021     RN"
      ]
     },
     "metadata": {},
     "output_type": "display_data"
    },
    {
     "data": {
      "text/plain": [
       "244"
      ]
     },
     "metadata": {},
     "output_type": "display_data"
    },
    {
     "data": {
      "text/plain": [
       "<Response [200]>"
      ]
     },
     "metadata": {},
     "output_type": "display_data"
    },
    {
     "data": {
      "text/html": [
       "<div>\n",
       "<style scoped>\n",
       "    .dataframe tbody tr th:only-of-type {\n",
       "        vertical-align: middle;\n",
       "    }\n",
       "\n",
       "    .dataframe tbody tr th {\n",
       "        vertical-align: top;\n",
       "    }\n",
       "\n",
       "    .dataframe thead th {\n",
       "        text-align: right;\n",
       "    }\n",
       "</style>\n",
       "<table border=\"1\" class=\"dataframe\">\n",
       "  <thead>\n",
       "    <tr style=\"text-align: right;\">\n",
       "      <th></th>\n",
       "      <th>cidade</th>\n",
       "      <th>estado</th>\n",
       "      <th>atualizado_em</th>\n",
       "      <th>clima</th>\n",
       "    </tr>\n",
       "  </thead>\n",
       "  <tbody>\n",
       "    <tr>\n",
       "      <th>0</th>\n",
       "      <td>São Paulo</td>\n",
       "      <td>SP</td>\n",
       "      <td>2024-05-27</td>\n",
       "      <td>{'data': '2024-05-27', 'condicao': 'c', 'condi...</td>\n",
       "    </tr>\n",
       "    <tr>\n",
       "      <th>1</th>\n",
       "      <td>São Paulo</td>\n",
       "      <td>SP</td>\n",
       "      <td>2024-05-27</td>\n",
       "      <td>{'data': '2024-05-28', 'condicao': 'pn', 'cond...</td>\n",
       "    </tr>\n",
       "    <tr>\n",
       "      <th>2</th>\n",
       "      <td>São Paulo</td>\n",
       "      <td>SP</td>\n",
       "      <td>2024-05-27</td>\n",
       "      <td>{'data': '2024-05-29', 'condicao': 'pn', 'cond...</td>\n",
       "    </tr>\n",
       "    <tr>\n",
       "      <th>3</th>\n",
       "      <td>São Paulo</td>\n",
       "      <td>SP</td>\n",
       "      <td>2024-05-27</td>\n",
       "      <td>{'data': '2024-05-30', 'condicao': 'pn', 'cond...</td>\n",
       "    </tr>\n",
       "    <tr>\n",
       "      <th>4</th>\n",
       "      <td>São Paulo</td>\n",
       "      <td>SP</td>\n",
       "      <td>2024-05-27</td>\n",
       "      <td>{'data': '2024-05-31', 'condicao': 'pn', 'cond...</td>\n",
       "    </tr>\n",
       "    <tr>\n",
       "      <th>5</th>\n",
       "      <td>São Paulo</td>\n",
       "      <td>SP</td>\n",
       "      <td>2024-05-27</td>\n",
       "      <td>{'data': '2024-06-01', 'condicao': 'pn', 'cond...</td>\n",
       "    </tr>\n",
       "  </tbody>\n",
       "</table>\n",
       "</div>"
      ],
      "text/plain": [
       "      cidade estado atualizado_em  \\\n",
       "0  São Paulo     SP    2024-05-27   \n",
       "1  São Paulo     SP    2024-05-27   \n",
       "2  São Paulo     SP    2024-05-27   \n",
       "3  São Paulo     SP    2024-05-27   \n",
       "4  São Paulo     SP    2024-05-27   \n",
       "5  São Paulo     SP    2024-05-27   \n",
       "\n",
       "                                               clima  \n",
       "0  {'data': '2024-05-27', 'condicao': 'c', 'condi...  \n",
       "1  {'data': '2024-05-28', 'condicao': 'pn', 'cond...  \n",
       "2  {'data': '2024-05-29', 'condicao': 'pn', 'cond...  \n",
       "3  {'data': '2024-05-30', 'condicao': 'pn', 'cond...  \n",
       "4  {'data': '2024-05-31', 'condicao': 'pn', 'cond...  \n",
       "5  {'data': '2024-06-01', 'condicao': 'pn', 'cond...  "
      ]
     },
     "metadata": {},
     "output_type": "display_data"
    }
   ],
   "source": [
    "conn_holidays = sqlite3.connect('holidays.db')\n",
    "conn_estados = sqlite3.connect('estados.db')\n",
    "conn_previsao = sqlite3.connect('previsao.db')\n",
    "\n",
    "print(\"Boas-vindas ao SIPD - Sistema integrado de planejamento divertido\")\n",
    "\n",
    "opcao_menu_inicial = input(\n",
    "    \"Boas-vindas ao SIPD - Sistema integrado de planejamento divertido\\n Escolha uma opção:\\n 1 - Feriados Nacionais\\n 2 - Roleta de Estados para Visitar\\n 3 - Previsão do Tempo\")\n",
    "\n",
    "valida_opcao_menu_inicial(opcao_menu_inicial)\n",
    "\n",
    "conn_holidays.close()\n",
    "conn_estados.close()\n",
    "conn_previsao.close()"
   ]
  }
 ],
 "metadata": {
  "kernelspec": {
   "display_name": "Python 3",
   "language": "python",
   "name": "python3"
  },
  "language_info": {
   "codemirror_mode": {
    "name": "ipython",
    "version": 3
   },
   "file_extension": ".py",
   "mimetype": "text/x-python",
   "name": "python",
   "nbconvert_exporter": "python",
   "pygments_lexer": "ipython3",
   "version": "3.12.3"
  }
 },
 "nbformat": 4,
 "nbformat_minor": 2
}
